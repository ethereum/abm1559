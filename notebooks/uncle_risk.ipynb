{
 "cells": [
  {
   "cell_type": "code",
   "execution_count": 1,
   "id": "4f5cc9ff-7266-4848-bbf5-641f1fd6fe2b",
   "metadata": {},
   "outputs": [],
   "source": [
    "p = 2.5e-9 # Extra uncle risk from adding one unit of gas\n",
    "R = 2e9 # Block reward in Gwei\n",
    "U = 1.67e9 # Uncle reward in Gwei\n",
    "\n",
    "def expected_reward_mev_only(Tmev, gmev):\n",
    "    # MEV transactions net Tmev fees (in Gwei) and use gmev gas\n",
    "    # No other transaction is added to the block\n",
    "    return (1-p*gmev) * (R + Tmev) + p*gmev * U\n",
    "\n",
    "def expected_reward_whole_block(Tmev, gmev, delta, gn):\n",
    "    # MEV transactions net Tmev fees (in Gwei) and use gmev gas\n",
    "    # Non-MEV transactions net delta Gwei per gas unit and use gn gas\n",
    "    g = gn + gmev\n",
    "    return (1-p*g) * (R + Tmev + gn * delta) + p*g * U"
   ]
  },
  {
   "cell_type": "code",
   "execution_count": 2,
   "id": "256f2827-87b8-440f-979c-30c32ca32abd",
   "metadata": {},
   "outputs": [
    {
     "data": {
      "text/plain": [
       "2.996675"
      ]
     },
     "execution_count": 2,
     "metadata": {},
     "output_type": "execute_result"
    }
   ],
   "source": [
    "expected_reward_mev_only(1e9, 1e6) / 1e9"
   ]
  },
  {
   "cell_type": "code",
   "execution_count": 3,
   "id": "8d7da416-7771-4784-880c-c985e3713a9f",
   "metadata": {},
   "outputs": [
    {
     "data": {
      "text/plain": [
       "2.9636"
      ]
     },
     "execution_count": 3,
     "metadata": {},
     "output_type": "execute_result"
    }
   ],
   "source": [
    "expected_reward_whole_block(1e9, 1e6, 1, 14e6) / 1e9"
   ]
  },
  {
   "cell_type": "code",
   "execution_count": 4,
   "id": "aae2ec22-e2da-4dd4-b413-d88080d1167b",
   "metadata": {},
   "outputs": [],
   "source": [
    "def delta_threshold(Tmev, g, p=p):\n",
    "    return p * (R - U + Tmev) / (1 - p*g)"
   ]
  },
  {
   "cell_type": "code",
   "execution_count": 5,
   "id": "5e76e4f6-ffde-4ec1-b743-962748d2980e",
   "metadata": {},
   "outputs": [
    {
     "data": {
      "text/plain": [
       "Text(0, 0.5, 'Miner fee (in Gwei per gas unit)')"
      ]
     },
     "execution_count": 5,
     "metadata": {},
     "output_type": "execute_result"
    },
    {
     "data": {
      "image/png": "[encoded data removed]",
      "text/plain": [
       "<Figure size 432x288 with 1 Axes>"
      ]
     },
     "metadata": {
      "needs_background": "light"
     },
     "output_type": "display_data"
    }
   ],
   "source": [
    "import numpy as np\n",
    "import pandas as pd\n",
    "\n",
    "ax = pd.DataFrame({\n",
    "    \"Tmev\": np.arange(start=0, stop=2, step=0.1),\n",
    "    \"Miner fee\": [delta_threshold(i * 1e9, 15e6, p=2e-9) for i in np.arange(start=0, stop=2, step=0.1)]\n",
    "}).plot(\"Tmev\", \"Miner fee\")\n",
    "ax.set_xlabel(\"MEV (in ETH)\")\n",
    "ax.set_ylabel(\"Miner fee (in Gwei per gas unit)\")"
   ]
  }
 ],
 "metadata": {
  "kernelspec": {
   "display_name": "Python 3",
   "language": "python",
   "name": "python3"
  },
  "language_info": {
   "codemirror_mode": {
    "name": "ipython",
    "version": 3
   },
   "file_extension": ".py",
   "mimetype": "text/x-python",
   "name": "python",
   "nbconvert_exporter": "python",
   "pygments_lexer": "ipython3",
   "version": "3.9.5"
  }
 },
 "nbformat": 4,
 "nbformat_minor": 5
}
